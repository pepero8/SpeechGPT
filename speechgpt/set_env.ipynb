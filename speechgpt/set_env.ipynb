{
 "cells": [
  {
   "cell_type": "markdown",
   "metadata": {},
   "source": [
    "requirements: conda가 깔려있으며 working directory는 /SpeechGPT/"
   ]
  },
  {
   "cell_type": "code",
   "execution_count": null,
   "metadata": {},
   "outputs": [],
   "source": [
    "!curl -s https://packagecloud.io/install/repositories/github/git-lfs/script.deb.sh | sudo bash\n",
    "!sudo apt-get install git-lfs\n",
    "!git lfs install\n",
    "!git clone https://huggingface.co/fnlp/SpeechGPT-7B-cm\n",
    "!git clone https://huggingface.co/fnlp/SpeechGPT-7B-com"
   ]
  },
  {
   "cell_type": "code",
   "execution_count": null,
   "metadata": {},
   "outputs": [],
   "source": [
    "!conda create --name SpeechGPT python=3.8\n",
    "!conda activate SpeechGPT\n",
    "!conda install pip=24.0\n",
    "!conda install cudatoolkit=11.7 -c conda-forge\n",
    "!pip install -r requirements.txt\n",
    "!pip install -U datasets\n",
    "!pip install transformers==4.34\n",
    "!pip install --upgrade huggingface-hub"
   ]
  },
  {
   "cell_type": "code",
   "execution_count": null,
   "metadata": {},
   "outputs": [],
   "source": [
    "!cd utils/speech2unit\n",
    "!wget https://dl.fbaipublicfiles.com/hubert/mhubert_base_vp_en_es_fr_it3.pt\n",
    "!wget https://dl.fbaipublicfiles.com/hubert/mhubert_base_vp_en_es_fr_it3_L11_km1000.bin"
   ]
  },
  {
   "cell_type": "code",
   "execution_count": null,
   "metadata": {},
   "outputs": [],
   "source": [
    "!cd utils/vocoder\n",
    "!wget https://dl.fbaipublicfiles.com/fairseq/speech_to_speech/vocoder/code_hifigan/mhubert_vp_en_es_fr_it3_400k_layer11_km1000_lj/config.json -O config.json\n",
    "!wget https://dl.fbaipublicfiles.com/fairseq/speech_to_speech/vocoder/code_hifigan/mhubert_vp_en_es_fr_it3_400k_layer11_km1000_lj/g_00500000 -O vocoder.pt"
   ]
  },
  {
   "cell_type": "code",
   "execution_count": null,
   "metadata": {},
   "outputs": [],
   "source": [
    "# /SpeechGPT/ 에서 실행\n",
    "!python3 speechgpt/src/infer/cli_infer.py --model-name-or-path \"./SpeechGPT-7B-cm\" --lora-weights \"./SpeechGPT-7B-com\" --s2u-dir \"speechgpt/utils/speech2unit\" --vocoder-dir \"speechgpt/utils/vocoder\" --output-dir \"output\""
   ]
  },
  {
   "cell_type": "code",
   "execution_count": null,
   "metadata": {},
   "outputs": [],
   "source": [
    "# /SpeechGPT/speechgpt/data/ 에서 실행\n",
    "!mkdir ./stage1\n",
    "!python preprocess.py --checkpoint-dir /home/jhwan98/EmoSDS/SpeechGPT/speechgpt/utils/speech2unit/"
   ]
  },
  {
   "cell_type": "code",
   "execution_count": null,
   "metadata": {},
   "outputs": [],
   "source": [
    "# Llama 2 7B 모델 다운로드\n",
    "speechgpt/llama/hf/7B 만들고 여기서 다음을 실행\n",
    "git clone https://huggingface.co/meta-llama/Llama-2-7b"
   ]
  },
  {
   "cell_type": "code",
   "execution_count": null,
   "metadata": {},
   "outputs": [],
   "source": [
    "# /SpeechGPT/speechgpt/ 에서 실행\n",
    "# bash scripts/ma_pretrain.sh ${NNODE} ${NODE_RANK} ${MASTER_ADDR} ${MASTER_PORT}\n",
    "bash scripts/ma_pretrain.sh"
   ]
  }
 ],
 "metadata": {
  "kernelspec": {
   "display_name": "SpeechGPT",
   "language": "python",
   "name": "python3"
  },
  "language_info": {
   "name": "python",
   "version": "3.8.20"
  }
 },
 "nbformat": 4,
 "nbformat_minor": 2
}
